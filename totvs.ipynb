{
 "cells": [
  {
   "cell_type": "markdown",
   "metadata": {},
   "source": [
    "# TOTVS Challange\n",
    "\n",
    "## Imports"
   ]
  },
  {
   "cell_type": "code",
   "execution_count": 1,
   "metadata": {
    "collapsed": true
   },
   "outputs": [],
   "source": [
    "import pandas as pd\n",
    "import json"
   ]
  },
  {
   "cell_type": "markdown",
   "metadata": {},
   "source": [
    "## Open File"
   ]
  },
  {
   "cell_type": "code",
   "execution_count": 2,
   "metadata": {
    "collapsed": true
   },
   "outputs": [],
   "source": [
    "with open('sample.txt', 'r') as f:\n",
    "    arq = f.read()\n",
    "\n",
    "transactions = json.loads(arq)"
   ]
  },
  {
   "cell_type": "code",
   "execution_count": 3,
   "metadata": {
    "collapsed": false
   },
   "outputs": [
    {
     "data": {
      "text/plain": [
       "1635"
      ]
     },
     "execution_count": 3,
     "metadata": {},
     "output_type": "execute_result"
    }
   ],
   "source": [
    "amount_transactions = len(transactions)\n",
    "iterator = range(amount_transactions)\n",
    "\n",
    "amount_transactions"
   ]
  },
  {
   "cell_type": "markdown",
   "metadata": {},
   "source": [
    "## Get data"
   ]
  },
  {
   "cell_type": "code",
   "execution_count": 4,
   "metadata": {
    "collapsed": false
   },
   "outputs": [],
   "source": [
    "#1\n",
    "complementos = [transactions[i]['complemento']['valorTotal'] for i in iterator] \n",
    "#2\n",
    "items = [[item for item in transactions[i][u'dets']] for i in iterator]  # several items per transaction\n",
    "#3\n",
    "emits = [transactions[i][u'emit'] for i in iterator]   \n",
    "#4\n",
    "ides = [transactions[i]['ide'] for i in iterator]\n",
    "#5\n",
    "infAdic = [transactions[0][u'infAdic']for i in iterator]\n",
    "#6\n",
    "total = [transactions[0][u'total']['icmsTot'] for i in iterator]"
   ]
  },
  {
   "cell_type": "markdown",
   "metadata": {},
   "source": [
    "## Parse Data into columns DFs"
   ]
  },
  {
   "cell_type": "code",
   "execution_count": 5,
   "metadata": {
    "collapsed": false
   },
   "outputs": [
    {
     "name": "stdout",
     "output_type": "stream",
     "text": [
      "Items size: (3547, 8)\n"
     ]
    }
   ],
   "source": [
    "#1\n",
    "complementos_df = pd.DataFrame(data=complementos, columns=['complementos'])\n",
    "\n",
    "#2\n",
    "items_df = pd.DataFrame(items)\n",
    "items_df = items_df.stack().reset_index()\n",
    "items_df.columns = ['Transaction', 'nItems', 'Product']\n",
    "product_df = items_df['Product'].apply(pd.Series)['prod'].apply(pd.Series)\n",
    "items_df = pd.concat([items_df, product_df], axis=1)\n",
    "items_df.drop('Product', axis=1, inplace=True)\n",
    "print('Items size: {}'.format(items_df.shape))\n",
    "\n",
    "#3\n",
    "emits_df = pd.DataFrame(emits)\n",
    "emits_df = pd.concat([emits_df, emits_df.enderEmit.apply(pd.Series)], axis=1)\n",
    "emits_df.drop('enderEmit', axis=1, inplace=True)\n",
    "\n",
    "#4\n",
    "ides_df = pd.DataFrame(ides)\n",
    "ides_df.dhEmi = ides_df.dhEmi.apply(pd.Series)\n",
    "\n",
    "#5\n",
    "infAdic_df = pd.DataFrame(infAdic)\n",
    "\n",
    "#6\n",
    "total_df = pd.DataFrame(total)"
   ]
  },
  {
   "cell_type": "markdown",
   "metadata": {},
   "source": [
    "## Merge data from DFs"
   ]
  },
  {
   "cell_type": "code",
   "execution_count": 6,
   "metadata": {
    "collapsed": false
   },
   "outputs": [
    {
     "name": "stdout",
     "output_type": "stream",
     "text": [
      "Items size: (3547, 36)\n"
     ]
    }
   ],
   "source": [
    "for tmp_df in [complementos_df, emits_df, ides_df, infAdic_df, total_df]:\n",
    "    items_df = pd.merge(items_df, tmp_df, left_on='Transaction', right_index=True)\n",
    "    \n",
    "print('Items size: {}'.format(items_df.shape))"
   ]
  },
  {
   "cell_type": "markdown",
   "metadata": {},
   "source": [
    "## Remove columns with constant values"
   ]
  },
  {
   "cell_type": "markdown",
   "metadata": {},
   "source": [
    "#### Functon pd.factorize encodes the column"
   ]
  },
  {
   "cell_type": "code",
   "execution_count": 7,
   "metadata": {
    "collapsed": false
   },
   "outputs": [
    {
     "name": "stdout",
     "output_type": "stream",
     "text": [
      "CPU times: user 60.7 ms, sys: 1.62 ms, total: 62.3 ms\n",
      "Wall time: 64.4 ms\n"
     ]
    }
   ],
   "source": [
    "%%time\n",
    "cat_cols_const = []\n",
    "for col in items_df:\n",
    "    different_values_size = pd.Series(pd.factorize(items_df[col])[0]).value_counts().shape[0]\n",
    "    if different_values_size < 2:\n",
    "        cat_cols_const.append(col)"
   ]
  },
  {
   "cell_type": "code",
   "execution_count": 8,
   "metadata": {
    "collapsed": false
   },
   "outputs": [],
   "source": [
    "items_const_df_cat = items_df[cat_cols_const]\n",
    "items_df = items_df[items_df.columns.difference(cat_cols_const)]"
   ]
  },
  {
   "cell_type": "markdown",
   "metadata": {},
   "source": [
    "## Finally some clean data to work with.."
   ]
  },
  {
   "cell_type": "code",
   "execution_count": 9,
   "metadata": {
    "collapsed": false,
    "scrolled": true
   },
   "outputs": [
    {
     "data": {
      "text/html": [
       "<div>\n",
       "<table border=\"1\" class=\"dataframe\">\n",
       "  <thead>\n",
       "    <tr style=\"text-align: right;\">\n",
       "      <th></th>\n",
       "      <th>Transaction</th>\n",
       "      <th>complementos</th>\n",
       "      <th>dhEmi</th>\n",
       "      <th>nItems</th>\n",
       "      <th>qCom</th>\n",
       "      <th>uCom</th>\n",
       "      <th>vProd_x</th>\n",
       "      <th>vUnCom</th>\n",
       "      <th>xProd</th>\n",
       "    </tr>\n",
       "  </thead>\n",
       "  <tbody>\n",
       "    <tr>\n",
       "      <th>0</th>\n",
       "      <td>0</td>\n",
       "      <td>24.9</td>\n",
       "      <td>2016-01-05T12:01:54.000Z</td>\n",
       "      <td>0</td>\n",
       "      <td>1.000</td>\n",
       "      <td>UN</td>\n",
       "      <td>3.5</td>\n",
       "      <td>3.5</td>\n",
       "      <td>AGUA</td>\n",
       "    </tr>\n",
       "    <tr>\n",
       "      <th>1</th>\n",
       "      <td>0</td>\n",
       "      <td>24.9</td>\n",
       "      <td>2016-01-05T12:01:54.000Z</td>\n",
       "      <td>1</td>\n",
       "      <td>0.312</td>\n",
       "      <td>KG</td>\n",
       "      <td>21.4</td>\n",
       "      <td>68.6</td>\n",
       "      <td>BUFFET</td>\n",
       "    </tr>\n",
       "  </tbody>\n",
       "</table>\n",
       "</div>"
      ],
      "text/plain": [
       "   Transaction  complementos                     dhEmi  nItems   qCom uCom  \\\n",
       "0            0          24.9  2016-01-05T12:01:54.000Z       0  1.000   UN   \n",
       "1            0          24.9  2016-01-05T12:01:54.000Z       1  0.312   KG   \n",
       "\n",
       "   vProd_x  vUnCom   xProd  \n",
       "0      3.5     3.5    AGUA  \n",
       "1     21.4    68.6  BUFFET  "
      ]
     },
     "execution_count": 9,
     "metadata": {},
     "output_type": "execute_result"
    }
   ],
   "source": [
    "items_df.head(2)"
   ]
  },
  {
   "cell_type": "code",
   "execution_count": 10,
   "metadata": {
    "collapsed": false
   },
   "outputs": [],
   "source": [
    "items_df.columns = ['Transaction', 'Total', 'Date', 'Nth_item', 'Quantity', 'Unity', 'Value_paid', 'Value_original', 'SKU']"
   ]
  },
  {
   "cell_type": "code",
   "execution_count": 11,
   "metadata": {
    "collapsed": false
   },
   "outputs": [],
   "source": [
    "items_df.Date = pd.to_datetime(items_df.Date)\n",
    "items_df.set_index('Date', inplace=True)"
   ]
  },
  {
   "cell_type": "markdown",
   "metadata": {},
   "source": [
    "## Wait, no...Now we have better names, and dates"
   ]
  },
  {
   "cell_type": "code",
   "execution_count": 12,
   "metadata": {
    "collapsed": false
   },
   "outputs": [
    {
     "data": {
      "text/html": [
       "<div>\n",
       "<table border=\"1\" class=\"dataframe\">\n",
       "  <thead>\n",
       "    <tr style=\"text-align: right;\">\n",
       "      <th></th>\n",
       "      <th>Transaction</th>\n",
       "      <th>Total</th>\n",
       "      <th>Nth_item</th>\n",
       "      <th>Quantity</th>\n",
       "      <th>Unity</th>\n",
       "      <th>Value_paid</th>\n",
       "      <th>Value_original</th>\n",
       "      <th>SKU</th>\n",
       "    </tr>\n",
       "    <tr>\n",
       "      <th>Date</th>\n",
       "      <th></th>\n",
       "      <th></th>\n",
       "      <th></th>\n",
       "      <th></th>\n",
       "      <th></th>\n",
       "      <th></th>\n",
       "      <th></th>\n",
       "      <th></th>\n",
       "    </tr>\n",
       "  </thead>\n",
       "  <tbody>\n",
       "    <tr>\n",
       "      <th>2016-01-05 12:01:54</th>\n",
       "      <td>0</td>\n",
       "      <td>24.90</td>\n",
       "      <td>0</td>\n",
       "      <td>1.000</td>\n",
       "      <td>UN</td>\n",
       "      <td>3.50</td>\n",
       "      <td>3.5</td>\n",
       "      <td>AGUA</td>\n",
       "    </tr>\n",
       "    <tr>\n",
       "      <th>2016-01-05 12:01:54</th>\n",
       "      <td>0</td>\n",
       "      <td>24.90</td>\n",
       "      <td>1</td>\n",
       "      <td>0.312</td>\n",
       "      <td>KG</td>\n",
       "      <td>21.40</td>\n",
       "      <td>68.6</td>\n",
       "      <td>BUFFET</td>\n",
       "    </tr>\n",
       "    <tr>\n",
       "      <th>2016-01-05 12:03:52</th>\n",
       "      <td>1</td>\n",
       "      <td>92.53</td>\n",
       "      <td>0</td>\n",
       "      <td>1.218</td>\n",
       "      <td>KG</td>\n",
       "      <td>83.55</td>\n",
       "      <td>68.6</td>\n",
       "      <td>BUFFET</td>\n",
       "    </tr>\n",
       "    <tr>\n",
       "      <th>2016-01-05 12:03:52</th>\n",
       "      <td>1</td>\n",
       "      <td>92.53</td>\n",
       "      <td>1</td>\n",
       "      <td>2.000</td>\n",
       "      <td>UN</td>\n",
       "      <td>9.00</td>\n",
       "      <td>4.5</td>\n",
       "      <td>REFRIGERANTE</td>\n",
       "    </tr>\n",
       "    <tr>\n",
       "      <th>2016-01-05 12:16:40</th>\n",
       "      <td>2</td>\n",
       "      <td>57.86</td>\n",
       "      <td>0</td>\n",
       "      <td>1.000</td>\n",
       "      <td>UN</td>\n",
       "      <td>4.50</td>\n",
       "      <td>4.5</td>\n",
       "      <td>SUCO</td>\n",
       "    </tr>\n",
       "    <tr>\n",
       "      <th>2016-01-05 12:16:40</th>\n",
       "      <td>2</td>\n",
       "      <td>57.86</td>\n",
       "      <td>1</td>\n",
       "      <td>0.778</td>\n",
       "      <td>KG</td>\n",
       "      <td>53.37</td>\n",
       "      <td>68.6</td>\n",
       "      <td>BUFFET</td>\n",
       "    </tr>\n",
       "    <tr>\n",
       "      <th>2016-01-05 12:17:50</th>\n",
       "      <td>3</td>\n",
       "      <td>34.97</td>\n",
       "      <td>0</td>\n",
       "      <td>0.510</td>\n",
       "      <td>KG</td>\n",
       "      <td>34.98</td>\n",
       "      <td>68.6</td>\n",
       "      <td>BUFFET</td>\n",
       "    </tr>\n",
       "    <tr>\n",
       "      <th>2016-01-05 12:18:35</th>\n",
       "      <td>4</td>\n",
       "      <td>46.23</td>\n",
       "      <td>0</td>\n",
       "      <td>0.674</td>\n",
       "      <td>KG</td>\n",
       "      <td>46.23</td>\n",
       "      <td>68.6</td>\n",
       "      <td>BUFFET</td>\n",
       "    </tr>\n",
       "    <tr>\n",
       "      <th>2016-01-05 12:20:00</th>\n",
       "      <td>5</td>\n",
       "      <td>32.76</td>\n",
       "      <td>0</td>\n",
       "      <td>0.412</td>\n",
       "      <td>KG</td>\n",
       "      <td>28.26</td>\n",
       "      <td>68.6</td>\n",
       "      <td>BUFFET</td>\n",
       "    </tr>\n",
       "    <tr>\n",
       "      <th>2016-01-05 12:20:00</th>\n",
       "      <td>5</td>\n",
       "      <td>32.76</td>\n",
       "      <td>1</td>\n",
       "      <td>1.000</td>\n",
       "      <td>UN</td>\n",
       "      <td>4.50</td>\n",
       "      <td>4.5</td>\n",
       "      <td>REFRIGERANTE</td>\n",
       "    </tr>\n",
       "  </tbody>\n",
       "</table>\n",
       "</div>"
      ],
      "text/plain": [
       "                     Transaction  Total  Nth_item  Quantity Unity  Value_paid  \\\n",
       "Date                                                                            \n",
       "2016-01-05 12:01:54            0  24.90         0     1.000    UN        3.50   \n",
       "2016-01-05 12:01:54            0  24.90         1     0.312    KG       21.40   \n",
       "2016-01-05 12:03:52            1  92.53         0     1.218    KG       83.55   \n",
       "2016-01-05 12:03:52            1  92.53         1     2.000    UN        9.00   \n",
       "2016-01-05 12:16:40            2  57.86         0     1.000    UN        4.50   \n",
       "2016-01-05 12:16:40            2  57.86         1     0.778    KG       53.37   \n",
       "2016-01-05 12:17:50            3  34.97         0     0.510    KG       34.98   \n",
       "2016-01-05 12:18:35            4  46.23         0     0.674    KG       46.23   \n",
       "2016-01-05 12:20:00            5  32.76         0     0.412    KG       28.26   \n",
       "2016-01-05 12:20:00            5  32.76         1     1.000    UN        4.50   \n",
       "\n",
       "                     Value_original           SKU  \n",
       "Date                                               \n",
       "2016-01-05 12:01:54             3.5          AGUA  \n",
       "2016-01-05 12:01:54            68.6        BUFFET  \n",
       "2016-01-05 12:03:52            68.6        BUFFET  \n",
       "2016-01-05 12:03:52             4.5  REFRIGERANTE  \n",
       "2016-01-05 12:16:40             4.5          SUCO  \n",
       "2016-01-05 12:16:40            68.6        BUFFET  \n",
       "2016-01-05 12:17:50            68.6        BUFFET  \n",
       "2016-01-05 12:18:35            68.6        BUFFET  \n",
       "2016-01-05 12:20:00            68.6        BUFFET  \n",
       "2016-01-05 12:20:00             4.5  REFRIGERANTE  "
      ]
     },
     "execution_count": 12,
     "metadata": {},
     "output_type": "execute_result"
    }
   ],
   "source": [
    "items_df.head(10)"
   ]
  },
  {
   "cell_type": "markdown",
   "metadata": {},
   "source": [
    "## Looks like they don't open on sundays\n",
    "### And there is a pretty beautiful weekly seasonality with peaks on wednesdays and falling to almost half of SKUs sold in the rest of the week"
   ]
  },
  {
   "cell_type": "code",
   "execution_count": 13,
   "metadata": {
    "collapsed": false
   },
   "outputs": [
    {
     "name": "stdout",
     "output_type": "stream",
     "text": [
      "Populating the interactive namespace from numpy and matplotlib\n"
     ]
    },
    {
     "name": "stderr",
     "output_type": "stream",
     "text": [
      "WARNING: pylab import has clobbered these variables: ['f']\n",
      "`%matplotlib` prevents importing * from pylab and numpy\n"
     ]
    },
    {
     "data": {
      "text/plain": [
       "<matplotlib.text.Text at 0x114de8cd0>"
      ]
     },
     "execution_count": 13,
     "metadata": {},
     "output_type": "execute_result"
    },
    {
     "data": {
      "image/png": "[encoded data removed]",
      "text/plain": [
       "<matplotlib.figure.Figure at 0x114ea8590>"
      ]
     },
     "metadata": {},
     "output_type": "display_data"
    }
   ],
   "source": [
    "%pylab inline \n",
    "\n",
    "items_df.resample('d').count()['SKU'].plot(grid=True, marker='o')\n",
    "title('Number of SKUs sold per day')"
   ]
  },
  {
   "cell_type": "markdown",
   "metadata": {},
   "source": [
    "#### Yea..no sundays. And their best day is wednesday. At what hour?"
   ]
  },
  {
   "cell_type": "code",
   "execution_count": 14,
   "metadata": {
    "collapsed": false
   },
   "outputs": [
    {
     "data": {
      "image/png": "[encoded data removed]",
      "text/plain": [
       "<matplotlib.figure.Figure at 0x1155ad610>"
      ]
     },
     "metadata": {},
     "output_type": "display_data"
    }
   ],
   "source": [
    "fig = items_df.groupby(items_df.index.weekday).count()['SKU'].plot.bar(alpha=.5)\n",
    "ticks = fig.set_xticklabels(['M', 'T', 'W', 'T', 'F', 'S'])"
   ]
  },
  {
   "cell_type": "markdown",
   "metadata": {},
   "source": [
    "#### Alright..Lunch time and dinner. No surprise there. Best at lunch."
   ]
  },
  {
   "cell_type": "code",
   "execution_count": 15,
   "metadata": {
    "collapsed": false
   },
   "outputs": [
    {
     "data": {
      "image/png": "[encoded data removed]",
      "text/plain": [
       "<matplotlib.figure.Figure at 0x114d26550>"
      ]
     },
     "metadata": {},
     "output_type": "display_data"
    }
   ],
   "source": [
    "fig = items_df.groupby(items_df.index.hour).count()['SKU'].plot.bar(alpha=.5)"
   ]
  },
  {
   "cell_type": "markdown",
   "metadata": {},
   "source": [
    "## Which items are mostly sold in the lunch/afternoon and at night?"
   ]
  },
  {
   "cell_type": "markdown",
   "metadata": {},
   "source": [
    "### Look at that!! 'CHA' was replaced by 'CERVEJA' at night"
   ]
  },
  {
   "cell_type": "code",
   "execution_count": 16,
   "metadata": {
    "collapsed": false
   },
   "outputs": [
    {
     "data": {
      "text/plain": [
       "<matplotlib.axes._subplots.AxesSubplot at 0x114fc5950>"
      ]
     },
     "execution_count": 16,
     "metadata": {},
     "output_type": "execute_result"
    },
    {
     "data": {
      "image/png": "[encoded data removed]",
      "text/plain": [
       "<matplotlib.figure.Figure at 0x1152c9b90>"
      ]
     },
     "metadata": {},
     "output_type": "display_data"
    }
   ],
   "source": [
    "figsize(10,5)\n",
    "lunch_df = items_df[items_df.index.hour < 18]\n",
    "night_df = items_df[items_df.index.hour >= 18]\n",
    "\n",
    "fig, ax = pyplot.subplots(1,2)\n",
    "\n",
    "lunch_df.groupby('SKU').count()['Total'].sort_values(ascending=False).head().plot.pie(ax=ax[0])\n",
    "night_df.groupby('SKU').count()['Total'].sort_values(ascending=False).head().plot.pie(ax=ax[1])"
   ]
  },
  {
   "cell_type": "markdown",
   "metadata": {},
   "source": [
    "### We've analysed some patterns about time and mostly sold items. I could go on and on analysing other things like what is mostly profitable, what are they buying together with SUSHI or other stuff, but I got curious to check out what is the distribution of the Buffet kilograms!!"
   ]
  },
  {
   "cell_type": "code",
   "execution_count": 17,
   "metadata": {
    "collapsed": false
   },
   "outputs": [
    {
     "name": "stdout",
     "output_type": "stream",
     "text": [
      "Transaction         1634\n",
      "Total             608.91\n",
      "Nth_item               7\n",
      "Quantity           4.896\n",
      "Unity                 KG\n",
      "Value_paid        335.86\n",
      "Value_original      68.6\n",
      "SKU               BUFFET\n",
      "dtype: object\n"
     ]
    },
    {
     "data": {
      "image/png": "[encoded data removed]",
      "text/plain": [
       "<matplotlib.figure.Figure at 0x115200fd0>"
      ]
     },
     "metadata": {},
     "output_type": "display_data"
    }
   ],
   "source": [
    "figsize(7,5)\n",
    "items_df[items_df.SKU == 'BUFFET'].Quantity.hist(bins=20)\n",
    "\n",
    "print(items_df[items_df.SKU == 'BUFFET'].max())"
   ]
  },
  {
   "cell_type": "markdown",
   "metadata": {},
   "source": [
    "What?! Someone got a 4.896kg Buffet on the transaction 819!!! \n",
    "\n",
    "But it seems ok because it looks like there were many people on the table late at night. Look at their bill."
   ]
  },
  {
   "cell_type": "code",
   "execution_count": 18,
   "metadata": {
    "collapsed": false
   },
   "outputs": [
    {
     "data": {
      "text/html": [
       "<div>\n",
       "<table border=\"1\" class=\"dataframe\">\n",
       "  <thead>\n",
       "    <tr style=\"text-align: right;\">\n",
       "      <th></th>\n",
       "      <th>Transaction</th>\n",
       "      <th>Total</th>\n",
       "      <th>Nth_item</th>\n",
       "      <th>Quantity</th>\n",
       "      <th>Unity</th>\n",
       "      <th>Value_paid</th>\n",
       "      <th>Value_original</th>\n",
       "      <th>SKU</th>\n",
       "    </tr>\n",
       "    <tr>\n",
       "      <th>Date</th>\n",
       "      <th></th>\n",
       "      <th></th>\n",
       "      <th></th>\n",
       "      <th></th>\n",
       "      <th></th>\n",
       "      <th></th>\n",
       "      <th></th>\n",
       "      <th></th>\n",
       "    </tr>\n",
       "  </thead>\n",
       "  <tbody>\n",
       "    <tr>\n",
       "      <th>2016-01-13 23:05:50</th>\n",
       "      <td>819</td>\n",
       "      <td>608.91</td>\n",
       "      <td>0</td>\n",
       "      <td>6.000</td>\n",
       "      <td>UN</td>\n",
       "      <td>27.00</td>\n",
       "      <td>4.5</td>\n",
       "      <td>SUCO</td>\n",
       "    </tr>\n",
       "    <tr>\n",
       "      <th>2016-01-13 23:05:50</th>\n",
       "      <td>819</td>\n",
       "      <td>608.91</td>\n",
       "      <td>1</td>\n",
       "      <td>9.000</td>\n",
       "      <td>UN</td>\n",
       "      <td>31.50</td>\n",
       "      <td>3.5</td>\n",
       "      <td>AGUA</td>\n",
       "    </tr>\n",
       "    <tr>\n",
       "      <th>2016-01-13 23:05:50</th>\n",
       "      <td>819</td>\n",
       "      <td>608.91</td>\n",
       "      <td>2</td>\n",
       "      <td>3.000</td>\n",
       "      <td>UN</td>\n",
       "      <td>14.70</td>\n",
       "      <td>4.9</td>\n",
       "      <td>SUCO</td>\n",
       "    </tr>\n",
       "    <tr>\n",
       "      <th>2016-01-13 23:05:50</th>\n",
       "      <td>819</td>\n",
       "      <td>608.91</td>\n",
       "      <td>3</td>\n",
       "      <td>2.000</td>\n",
       "      <td>UN</td>\n",
       "      <td>12.00</td>\n",
       "      <td>6.0</td>\n",
       "      <td>CERVEJA LATA</td>\n",
       "    </tr>\n",
       "    <tr>\n",
       "      <th>2016-01-13 23:05:50</th>\n",
       "      <td>819</td>\n",
       "      <td>608.91</td>\n",
       "      <td>4</td>\n",
       "      <td>1.000</td>\n",
       "      <td>UN</td>\n",
       "      <td>6.50</td>\n",
       "      <td>6.5</td>\n",
       "      <td>SUSHI ESPECIAL</td>\n",
       "    </tr>\n",
       "    <tr>\n",
       "      <th>2016-01-13 23:05:50</th>\n",
       "      <td>819</td>\n",
       "      <td>608.91</td>\n",
       "      <td>5</td>\n",
       "      <td>8.000</td>\n",
       "      <td>UN</td>\n",
       "      <td>78.40</td>\n",
       "      <td>9.8</td>\n",
       "      <td>CERVEJA LATA</td>\n",
       "    </tr>\n",
       "    <tr>\n",
       "      <th>2016-01-13 23:05:50</th>\n",
       "      <td>819</td>\n",
       "      <td>608.91</td>\n",
       "      <td>6</td>\n",
       "      <td>3.000</td>\n",
       "      <td>UN</td>\n",
       "      <td>37.50</td>\n",
       "      <td>12.5</td>\n",
       "      <td>WHISKY</td>\n",
       "    </tr>\n",
       "    <tr>\n",
       "      <th>2016-01-13 23:05:50</th>\n",
       "      <td>819</td>\n",
       "      <td>608.91</td>\n",
       "      <td>7</td>\n",
       "      <td>4.896</td>\n",
       "      <td>KG</td>\n",
       "      <td>335.86</td>\n",
       "      <td>68.6</td>\n",
       "      <td>BUFFET</td>\n",
       "    </tr>\n",
       "    <tr>\n",
       "      <th>2016-01-13 23:05:50</th>\n",
       "      <td>819</td>\n",
       "      <td>608.91</td>\n",
       "      <td>8</td>\n",
       "      <td>3.000</td>\n",
       "      <td>UN</td>\n",
       "      <td>13.50</td>\n",
       "      <td>4.5</td>\n",
       "      <td>REFRIGERANTE</td>\n",
       "    </tr>\n",
       "    <tr>\n",
       "      <th>2016-01-13 23:05:50</th>\n",
       "      <td>819</td>\n",
       "      <td>608.91</td>\n",
       "      <td>9</td>\n",
       "      <td>8.000</td>\n",
       "      <td>UN</td>\n",
       "      <td>52.00</td>\n",
       "      <td>6.5</td>\n",
       "      <td>CERVEJA LATA</td>\n",
       "    </tr>\n",
       "  </tbody>\n",
       "</table>\n",
       "</div>"
      ],
      "text/plain": [
       "                     Transaction   Total  Nth_item  Quantity Unity  \\\n",
       "Date                                                                 \n",
       "2016-01-13 23:05:50          819  608.91         0     6.000    UN   \n",
       "2016-01-13 23:05:50          819  608.91         1     9.000    UN   \n",
       "2016-01-13 23:05:50          819  608.91         2     3.000    UN   \n",
       "2016-01-13 23:05:50          819  608.91         3     2.000    UN   \n",
       "2016-01-13 23:05:50          819  608.91         4     1.000    UN   \n",
       "2016-01-13 23:05:50          819  608.91         5     8.000    UN   \n",
       "2016-01-13 23:05:50          819  608.91         6     3.000    UN   \n",
       "2016-01-13 23:05:50          819  608.91         7     4.896    KG   \n",
       "2016-01-13 23:05:50          819  608.91         8     3.000    UN   \n",
       "2016-01-13 23:05:50          819  608.91         9     8.000    UN   \n",
       "\n",
       "                     Value_paid  Value_original             SKU  \n",
       "Date                                                             \n",
       "2016-01-13 23:05:50       27.00             4.5            SUCO  \n",
       "2016-01-13 23:05:50       31.50             3.5            AGUA  \n",
       "2016-01-13 23:05:50       14.70             4.9            SUCO  \n",
       "2016-01-13 23:05:50       12.00             6.0    CERVEJA LATA  \n",
       "2016-01-13 23:05:50        6.50             6.5  SUSHI ESPECIAL  \n",
       "2016-01-13 23:05:50       78.40             9.8    CERVEJA LATA  \n",
       "2016-01-13 23:05:50       37.50            12.5          WHISKY  \n",
       "2016-01-13 23:05:50      335.86            68.6          BUFFET  \n",
       "2016-01-13 23:05:50       13.50             4.5    REFRIGERANTE  \n",
       "2016-01-13 23:05:50       52.00             6.5    CERVEJA LATA  "
      ]
     },
     "execution_count": 18,
     "metadata": {},
     "output_type": "execute_result"
    }
   ],
   "source": [
    "items_df[items_df.Transaction == 819]"
   ]
  },
  {
   "cell_type": "markdown",
   "metadata": {},
   "source": [
    "# Let's get to the serious stuff\n",
    "## How much will they get on the next week?"
   ]
  },
  {
   "cell_type": "code",
   "execution_count": 19,
   "metadata": {
    "collapsed": false
   },
   "outputs": [
    {
     "data": {
      "text/plain": [
       "<matplotlib.axes._subplots.AxesSubplot at 0x1049f0490>"
      ]
     },
     "execution_count": 19,
     "metadata": {},
     "output_type": "execute_result"
    },
    {
     "data": {
      "image/png": "[encoded data removed]",
      "text/plain": [
       "<matplotlib.figure.Figure at 0x115cdb650>"
      ]
     },
     "metadata": {},
     "output_type": "display_data"
    }
   ],
   "source": [
    "figsize(7,5)\n",
    "title('Money per day')\n",
    "items_df['Total'].drop_duplicates().resample('d').sum().fillna(0).plot(grid=True, marker='o')"
   ]
  },
  {
   "cell_type": "markdown",
   "metadata": {},
   "source": [
    "## 12h time series with lag of 7days* (24h/12h) \n",
    "### They work from 11AM until 23PM"
   ]
  },
  {
   "cell_type": "code",
   "execution_count": 20,
   "metadata": {
    "collapsed": false
   },
   "outputs": [
    {
     "data": {
      "text/plain": [
       "<matplotlib.legend.Legend at 0x11576dad0>"
      ]
     },
     "execution_count": 20,
     "metadata": {},
     "output_type": "execute_result"
    },
    {
     "data": {
      "image/png": "[encoded data removed]",
      "text/plain": [
       "<matplotlib.figure.Figure at 0x11576dbd0>"
      ]
     },
     "metadata": {},
     "output_type": "display_data"
    }
   ],
   "source": [
    "figsize(12, 5)\n",
    "ts = items_df['Total'].drop_duplicates()\n",
    "\n",
    "ts.resample('12h').sum().fillna(0).plot(grid=True, label='12h')\n",
    "ts.resample('12h').sum().fillna(0).shift(7*2).plot(grid=True, label='Lag of 7 days')\n",
    "\n",
    "legend(loc='best')"
   ]
  },
  {
   "cell_type": "markdown",
   "metadata": {},
   "source": [
    "## This is a timeserie with a very strong weekly seasonal pattern and can be easily predicted with a lag of 7 days. Even in the 12h granularity."
   ]
  },
  {
   "cell_type": "code",
   "execution_count": 21,
   "metadata": {
    "collapsed": false
   },
   "outputs": [],
   "source": [
    "serie = ts.resample('12h').sum().fillna(0)\n",
    "serie_pred = ts.resample('12h').sum().fillna(0).shift(7*2)"
   ]
  },
  {
   "cell_type": "code",
   "execution_count": 22,
   "metadata": {
    "collapsed": false
   },
   "outputs": [],
   "source": [
    "ts_df = pd.concat([serie, serie_pred], axis=1)\n",
    "ts_df.columns=['Serie', 'Serie_pred']\n",
    "ts_df['AbsDiff'] = (ts_df['Serie'] - ts_df['Serie_pred']).abs()\n",
    "ts_df['Contribution'] = ts_df['AbsDiff'] / ts_df['Serie'].sum()"
   ]
  },
  {
   "cell_type": "markdown",
   "metadata": {},
   "source": [
    "## Final result with the WMAPE metric"
   ]
  },
  {
   "cell_type": "code",
   "execution_count": 23,
   "metadata": {
    "collapsed": false
   },
   "outputs": [
    {
     "name": "stdout",
     "output_type": "stream",
     "text": [
      "14.49%\n"
     ]
    }
   ],
   "source": [
    "print('{0:.2f}%'.format(100*ts_df.fillna(0)['Contribution'].sum()))"
   ]
  },
  {
   "cell_type": "code",
   "execution_count": 24,
   "metadata": {
    "collapsed": false,
    "scrolled": true
   },
   "outputs": [
    {
     "data": {
      "text/html": [
       "\n",
       "        <style  type=\"text/css\" >\n",
       "        \n",
       "        \n",
       "        </style>\n",
       "\n",
       "        <table id=\"T_a2b0d266_a7cd_11e6_a16b_6c4008bb2280\" None>\n",
       "        \n",
       "\n",
       "        <thead>\n",
       "            \n",
       "            <tr>\n",
       "                \n",
       "                <th class=\"blank\">\n",
       "                \n",
       "                <th class=\"col_heading level0 col0\">Contribution\n",
       "                \n",
       "            </tr>\n",
       "            \n",
       "            <tr>\n",
       "                \n",
       "                <th class=\"col_heading level2 col0\">Date\n",
       "                \n",
       "                <th class=\"blank\">\n",
       "                \n",
       "            </tr>\n",
       "            \n",
       "        </thead>\n",
       "        <tbody>\n",
       "            \n",
       "            <tr>\n",
       "                \n",
       "                <th id=\"T_a2b0d266_a7cd_11e6_a16b_6c4008bb2280\" class=\"row_heading level0 row0\">\n",
       "                    2016-01-12 12:00:00\n",
       "                \n",
       "                <td id=\"T_a2b0d266_a7cd_11e6_a16b_6c4008bb2280row0_col0\" class=\"data row0 col0\">\n",
       "                    0.01%\n",
       "                \n",
       "            </tr>\n",
       "            \n",
       "            <tr>\n",
       "                \n",
       "                <th id=\"T_a2b0d266_a7cd_11e6_a16b_6c4008bb2280\" class=\"row_heading level0 row1\">\n",
       "                    2016-01-13 00:00:00\n",
       "                \n",
       "                <td id=\"T_a2b0d266_a7cd_11e6_a16b_6c4008bb2280row1_col0\" class=\"data row1 col0\">\n",
       "                    0.00%\n",
       "                \n",
       "            </tr>\n",
       "            \n",
       "            <tr>\n",
       "                \n",
       "                <th id=\"T_a2b0d266_a7cd_11e6_a16b_6c4008bb2280\" class=\"row_heading level0 row2\">\n",
       "                    2016-01-13 12:00:00\n",
       "                \n",
       "                <td id=\"T_a2b0d266_a7cd_11e6_a16b_6c4008bb2280row2_col0\" class=\"data row2 col0\">\n",
       "                    0.02%\n",
       "                \n",
       "            </tr>\n",
       "            \n",
       "            <tr>\n",
       "                \n",
       "                <th id=\"T_a2b0d266_a7cd_11e6_a16b_6c4008bb2280\" class=\"row_heading level0 row3\">\n",
       "                    2016-01-14 00:00:00\n",
       "                \n",
       "                <td id=\"T_a2b0d266_a7cd_11e6_a16b_6c4008bb2280row3_col0\" class=\"data row3 col0\">\n",
       "                    0.00%\n",
       "                \n",
       "            </tr>\n",
       "            \n",
       "            <tr>\n",
       "                \n",
       "                <th id=\"T_a2b0d266_a7cd_11e6_a16b_6c4008bb2280\" class=\"row_heading level0 row4\">\n",
       "                    2016-01-14 12:00:00\n",
       "                \n",
       "                <td id=\"T_a2b0d266_a7cd_11e6_a16b_6c4008bb2280row4_col0\" class=\"data row4 col0\">\n",
       "                    0.01%\n",
       "                \n",
       "            </tr>\n",
       "            \n",
       "            <tr>\n",
       "                \n",
       "                <th id=\"T_a2b0d266_a7cd_11e6_a16b_6c4008bb2280\" class=\"row_heading level0 row5\">\n",
       "                    2016-01-15 00:00:00\n",
       "                \n",
       "                <td id=\"T_a2b0d266_a7cd_11e6_a16b_6c4008bb2280row5_col0\" class=\"data row5 col0\">\n",
       "                    0.00%\n",
       "                \n",
       "            </tr>\n",
       "            \n",
       "            <tr>\n",
       "                \n",
       "                <th id=\"T_a2b0d266_a7cd_11e6_a16b_6c4008bb2280\" class=\"row_heading level0 row6\">\n",
       "                    2016-01-15 12:00:00\n",
       "                \n",
       "                <td id=\"T_a2b0d266_a7cd_11e6_a16b_6c4008bb2280row6_col0\" class=\"data row6 col0\">\n",
       "                    0.01%\n",
       "                \n",
       "            </tr>\n",
       "            \n",
       "            <tr>\n",
       "                \n",
       "                <th id=\"T_a2b0d266_a7cd_11e6_a16b_6c4008bb2280\" class=\"row_heading level0 row7\">\n",
       "                    2016-01-16 00:00:00\n",
       "                \n",
       "                <td id=\"T_a2b0d266_a7cd_11e6_a16b_6c4008bb2280row7_col0\" class=\"data row7 col0\">\n",
       "                    0.00%\n",
       "                \n",
       "            </tr>\n",
       "            \n",
       "            <tr>\n",
       "                \n",
       "                <th id=\"T_a2b0d266_a7cd_11e6_a16b_6c4008bb2280\" class=\"row_heading level0 row8\">\n",
       "                    2016-01-16 12:00:00\n",
       "                \n",
       "                <td id=\"T_a2b0d266_a7cd_11e6_a16b_6c4008bb2280row8_col0\" class=\"data row8 col0\">\n",
       "                    0.00%\n",
       "                \n",
       "            </tr>\n",
       "            \n",
       "            <tr>\n",
       "                \n",
       "                <th id=\"T_a2b0d266_a7cd_11e6_a16b_6c4008bb2280\" class=\"row_heading level0 row9\">\n",
       "                    2016-01-17 00:00:00\n",
       "                \n",
       "                <td id=\"T_a2b0d266_a7cd_11e6_a16b_6c4008bb2280row9_col0\" class=\"data row9 col0\">\n",
       "                    0.00%\n",
       "                \n",
       "            </tr>\n",
       "            \n",
       "            <tr>\n",
       "                \n",
       "                <th id=\"T_a2b0d266_a7cd_11e6_a16b_6c4008bb2280\" class=\"row_heading level0 row10\">\n",
       "                    2016-01-17 12:00:00\n",
       "                \n",
       "                <td id=\"T_a2b0d266_a7cd_11e6_a16b_6c4008bb2280row10_col0\" class=\"data row10 col0\">\n",
       "                    0.00%\n",
       "                \n",
       "            </tr>\n",
       "            \n",
       "            <tr>\n",
       "                \n",
       "                <th id=\"T_a2b0d266_a7cd_11e6_a16b_6c4008bb2280\" class=\"row_heading level0 row11\">\n",
       "                    2016-01-18 00:00:00\n",
       "                \n",
       "                <td id=\"T_a2b0d266_a7cd_11e6_a16b_6c4008bb2280row11_col0\" class=\"data row11 col0\">\n",
       "                    0.00%\n",
       "                \n",
       "            </tr>\n",
       "            \n",
       "            <tr>\n",
       "                \n",
       "                <th id=\"T_a2b0d266_a7cd_11e6_a16b_6c4008bb2280\" class=\"row_heading level0 row12\">\n",
       "                    2016-01-18 12:00:00\n",
       "                \n",
       "                <td id=\"T_a2b0d266_a7cd_11e6_a16b_6c4008bb2280row12_col0\" class=\"data row12 col0\">\n",
       "                    0.00%\n",
       "                \n",
       "            </tr>\n",
       "            \n",
       "            <tr>\n",
       "                \n",
       "                <th id=\"T_a2b0d266_a7cd_11e6_a16b_6c4008bb2280\" class=\"row_heading level0 row13\">\n",
       "                    2016-01-19 00:00:00\n",
       "                \n",
       "                <td id=\"T_a2b0d266_a7cd_11e6_a16b_6c4008bb2280row13_col0\" class=\"data row13 col0\">\n",
       "                    0.00%\n",
       "                \n",
       "            </tr>\n",
       "            \n",
       "            <tr>\n",
       "                \n",
       "                <th id=\"T_a2b0d266_a7cd_11e6_a16b_6c4008bb2280\" class=\"row_heading level0 row14\">\n",
       "                    2016-01-19 12:00:00\n",
       "                \n",
       "                <td id=\"T_a2b0d266_a7cd_11e6_a16b_6c4008bb2280row14_col0\" class=\"data row14 col0\">\n",
       "                    0.01%\n",
       "                \n",
       "            </tr>\n",
       "            \n",
       "            <tr>\n",
       "                \n",
       "                <th id=\"T_a2b0d266_a7cd_11e6_a16b_6c4008bb2280\" class=\"row_heading level0 row15\">\n",
       "                    2016-01-20 00:00:00\n",
       "                \n",
       "                <td id=\"T_a2b0d266_a7cd_11e6_a16b_6c4008bb2280row15_col0\" class=\"data row15 col0\">\n",
       "                    0.00%\n",
       "                \n",
       "            </tr>\n",
       "            \n",
       "            <tr>\n",
       "                \n",
       "                <th id=\"T_a2b0d266_a7cd_11e6_a16b_6c4008bb2280\" class=\"row_heading level0 row16\">\n",
       "                    2016-01-20 12:00:00\n",
       "                \n",
       "                <td id=\"T_a2b0d266_a7cd_11e6_a16b_6c4008bb2280row16_col0\" class=\"data row16 col0\">\n",
       "                    0.03%\n",
       "                \n",
       "            </tr>\n",
       "            \n",
       "            <tr>\n",
       "                \n",
       "                <th id=\"T_a2b0d266_a7cd_11e6_a16b_6c4008bb2280\" class=\"row_heading level0 row17\">\n",
       "                    2016-01-21 00:00:00\n",
       "                \n",
       "                <td id=\"T_a2b0d266_a7cd_11e6_a16b_6c4008bb2280row17_col0\" class=\"data row17 col0\">\n",
       "                    0.00%\n",
       "                \n",
       "            </tr>\n",
       "            \n",
       "            <tr>\n",
       "                \n",
       "                <th id=\"T_a2b0d266_a7cd_11e6_a16b_6c4008bb2280\" class=\"row_heading level0 row18\">\n",
       "                    2016-01-21 12:00:00\n",
       "                \n",
       "                <td id=\"T_a2b0d266_a7cd_11e6_a16b_6c4008bb2280row18_col0\" class=\"data row18 col0\">\n",
       "                    0.03%\n",
       "                \n",
       "            </tr>\n",
       "            \n",
       "            <tr>\n",
       "                \n",
       "                <th id=\"T_a2b0d266_a7cd_11e6_a16b_6c4008bb2280\" class=\"row_heading level0 row19\">\n",
       "                    2016-01-22 00:00:00\n",
       "                \n",
       "                <td id=\"T_a2b0d266_a7cd_11e6_a16b_6c4008bb2280row19_col0\" class=\"data row19 col0\">\n",
       "                    0.00%\n",
       "                \n",
       "            </tr>\n",
       "            \n",
       "            <tr>\n",
       "                \n",
       "                <th id=\"T_a2b0d266_a7cd_11e6_a16b_6c4008bb2280\" class=\"row_heading level0 row20\">\n",
       "                    2016-01-22 12:00:00\n",
       "                \n",
       "                <td id=\"T_a2b0d266_a7cd_11e6_a16b_6c4008bb2280row20_col0\" class=\"data row20 col0\">\n",
       "                    0.01%\n",
       "                \n",
       "            </tr>\n",
       "            \n",
       "            <tr>\n",
       "                \n",
       "                <th id=\"T_a2b0d266_a7cd_11e6_a16b_6c4008bb2280\" class=\"row_heading level0 row21\">\n",
       "                    2016-01-23 00:00:00\n",
       "                \n",
       "                <td id=\"T_a2b0d266_a7cd_11e6_a16b_6c4008bb2280row21_col0\" class=\"data row21 col0\">\n",
       "                    0.00%\n",
       "                \n",
       "            </tr>\n",
       "            \n",
       "            <tr>\n",
       "                \n",
       "                <th id=\"T_a2b0d266_a7cd_11e6_a16b_6c4008bb2280\" class=\"row_heading level0 row22\">\n",
       "                    2016-01-23 12:00:00\n",
       "                \n",
       "                <td id=\"T_a2b0d266_a7cd_11e6_a16b_6c4008bb2280row22_col0\" class=\"data row22 col0\">\n",
       "                    0.01%\n",
       "                \n",
       "            </tr>\n",
       "            \n",
       "        </tbody>\n",
       "        </table>\n",
       "        "
      ],
      "text/plain": [
       "<pandas.formats.style.Styler at 0x115acc810>"
      ]
     },
     "execution_count": 24,
     "metadata": {},
     "output_type": "execute_result"
    }
   ],
   "source": [
    "pd.DataFrame(ts_df.dropna()['Contribution']).style.format('{0:.2f}%')"
   ]
  },
  {
   "cell_type": "code",
   "execution_count": null,
   "metadata": {
    "collapsed": true
   },
   "outputs": [],
   "source": []
  },
  {
   "cell_type": "code",
   "execution_count": null,
   "metadata": {
    "collapsed": true
   },
   "outputs": [],
   "source": [
    "    "
   ]
  }
 ],
 "metadata": {
  "anaconda-cloud": {},
  "kernelspec": {
   "display_name": "Python [Root]",
   "language": "python",
   "name": "Python [Root]"
  },
  "language_info": {
   "codemirror_mode": {
    "name": "ipython",
    "version": 2
   },
   "file_extension": ".py",
   "mimetype": "text/x-python",
   "name": "python",
   "nbconvert_exporter": "python",
   "pygments_lexer": "ipython2",
   "version": "2.7.12"
  }
 },
 "nbformat": 4,
 "nbformat_minor": 0
}
